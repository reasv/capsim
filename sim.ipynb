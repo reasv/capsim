{
 "cells": [
  {
   "cell_type": "code",
   "execution_count": null,
   "metadata": {},
   "outputs": [],
   "source": [
    "initial_investment = 1000000\n",
    "yearly_sale_percentage = 0.04\n",
    "capital_gains_tax = 0.26\n",
    "dividend_tax = 0.26\n",
    "monthly_sale_percentage = yearly_sale_percentage / 12"
   ]
  },
  {
   "cell_type": "code",
   "execution_count": null,
   "metadata": {},
   "outputs": [],
   "source": [
    "import pandas as pd\n",
    "\n",
    "def load_source_data(prices_file, bigmac_file):\n",
    "    # Stock prices\n",
    "    ts = pd.read_csv(prices_file)\n",
    "    ts = ts.sort_values(by=\"timestamp\")\n",
    "    ts = ts.reset_index()\n",
    "    ts = ts.drop(columns=\"index\")\n",
    "    df = pd.DataFrame({\n",
    "    \"timestamp\": ts[\"timestamp\"],\n",
    "    \"price\": ts[\"adjusted close\"],\n",
    "    \"dividend\": ts[\"dividend amount\"],\n",
    "    })\n",
    "    df['timestamp'] = pd.to_datetime(df['timestamp'])\n",
    "\n",
    "    # Big Mac index\n",
    "    bigmac_pricedata = pd.read_csv(bigmac_file)\n",
    "    country = \"United States\"\n",
    "    bmprice = bigmac_pricedata[bigmac_pricedata.name == country][['date', 'dollar_price']]\n",
    "    bmprice['date'] = pd.to_datetime(bmprice['date'])\n",
    "    bmprice.rename(columns={\"date\": \"timestamp\", \"dollar_price\": \"cpi\"}, inplace=True)\n",
    "    \n",
    "    # Discard data that is not in the same time range for both datasets\n",
    "    bmprice = bmprice[(bmprice['timestamp'] >= df['timestamp'].iloc[0]) & (bmprice['timestamp'] <= df['timestamp'].iloc[-1])]\n",
    "    df = df[(df['timestamp'] >= bmprice['timestamp'].iloc[0]) & (df['timestamp'] <= bmprice['timestamp'].iloc[-1])]\n",
    "    \n",
    "    # Merge datasets\n",
    "    df = pd.merge_asof(df, bmprice, on=\"timestamp\")\n",
    "    # Dividend per dollar\n",
    "    df['dividend'] = df['dividend'] / df['price']\n",
    "    # Normalize CPI to 1 and stock price to 100\n",
    "    df['cpi'] = df['cpi'].fillna(bmprice['cpi'].iloc[0])\n",
    "    df['cpi'] = df['cpi'] / df['cpi'].iloc[0]\n",
    "    df['price'] = (df['price'] / df['price'].iloc[0] * 100).round(3)\n",
    "    # Dividend per share\n",
    "    df['dividend'] = (df['dividend'] * df['price']).round(3)\n",
    "    return df"
   ]
  },
  {
   "cell_type": "code",
   "execution_count": null,
   "metadata": {},
   "outputs": [],
   "source": [
    "src = load_source_data(\"monthly_adjusted_IBM.csv\", \"bigmac.csv\")\n",
    "src"
   ]
  },
  {
   "cell_type": "code",
   "execution_count": null,
   "metadata": {},
   "outputs": [],
   "source": [
    "df = src.copy()\n",
    "initial_shares = initial_investment / df['price'].iloc[0]\n",
    "initial_price = df['price'].iloc[0]\n",
    "initial_price, initial_shares\n",
    "df['shares'] = initial_shares\n",
    "df['perc. sold'] = monthly_sale_percentage\n",
    "df['shares'] = (df['shares'] * (1 - df['perc. sold']).cumprod()).round(2)\n",
    "df['shares sold'] = (df['shares'].shift(1).fillna(initial_shares) - df['shares']).round(2)\n",
    "df['portfolio value'] = (df['shares'] * df['price']).round(2)\n",
    "df['total port change'] = ((df['portfolio value'] / initial_investment)).round(4)\n",
    "df['monthly value inc'] = (df['portfolio value'] - df['portfolio value'].shift(1).fillna(initial_investment)).round(2)\n",
    "df['inflation adj. value'] = (df['portfolio value'] / df['cpi']).round(2)\n",
    "df['infl. adj. port change'] = ((df['portfolio value'] / df['cpi'] / initial_investment)).round(4)\n",
    "df['shares sold value'] = (df['shares sold'] * df['price']).round(2)\n",
    "df['capital gains'] = ((df['price'] - initial_price) * df['shares sold']).round(2)\n",
    "df['capital gains tax'] = (df['capital gains'] * capital_gains_tax).round(2)\n",
    "df['tax %'] = (df['capital gains tax'] / df['shares sold value']).round(4)\n",
    "df['net sale income'] = (df['shares sold'] * df['price'] - df['capital gains tax']).round(2)\n",
    "df['dividend income'] = (df['shares'] * df['dividend']).round(2)\n",
    "df['dividend tax'] = (df['dividend income'] * dividend_tax).round(2)\n",
    "df['net dividend income'] = (df['dividend income'] - df['dividend tax']).round(2)\n",
    "df['net income'] = (df['net sale income'] + df['net dividend income']).round(2)\n",
    "df['infl. adj. total income'] = (df['net income'] / df['cpi']).round(2)\n",
    "df['infl. adj. income change'] = ((df['infl. adj. total income'] / df['infl. adj. total income'].iloc[0])).round(4)\n",
    "df"
   ]
  },
  {
   "cell_type": "code",
   "execution_count": null,
   "metadata": {},
   "outputs": [],
   "source": [
    "dfs = [df[i:i+12] for i in range(0, df.shape[0], 12)]"
   ]
  },
  {
   "cell_type": "code",
   "execution_count": null,
   "metadata": {},
   "outputs": [],
   "source": [
    "dfs = [df for df in dfs if df.shape[0] == 12]"
   ]
  },
  {
   "cell_type": "code",
   "execution_count": null,
   "metadata": {},
   "outputs": [],
   "source": [
    "yearly = pd.DataFrame({\n",
    "    \"timestamp\": [d[\"timestamp\"].iloc[-1] for d in dfs],\n",
    "    \"price\": [d[\"price\"].iloc[-1] for d in dfs],\n",
    "    \"cpi\": [d[\"cpi\"].iloc[-1] for d in dfs],\n",
    "    \"shares\": [d[\"shares\"].iloc[-1] for d in dfs],\n",
    "    \"shares sold\": [d[\"shares sold\"].sum() for d in dfs],\n",
    "    \"portfolio value\": [d[\"portfolio value\"].iloc[-1] for d in dfs],\n",
    "    \"total port change\": [d[\"total port change\"].iloc[-1] for d in dfs],\n",
    "    \"inflation adj. value\": [d[\"inflation adj. value\"].iloc[-1] for d in dfs],\n",
    "    \"infl. adj. port change\": [d[\"infl. adj. port change\"].iloc[-1] for d in dfs],\n",
    "    \"capital gains tax\": [d[\"capital gains tax\"].sum() for d in dfs],\n",
    "    \"dividend tax\": [d[\"dividend tax\"].sum() for d in dfs],\n",
    "    \"net income\": [d[\"net income\"].sum() for d in dfs],\n",
    "    \"net sale income\": [d[\"net sale income\"].sum() for d in dfs],\n",
    "    \"net dividend income\": [d[\"net dividend income\"].sum() for d in dfs],\n",
    "    \"infl. adj. total income\": [d[\"infl. adj. total income\"].sum() for d in dfs],\n",
    "    \"infl. adj. monthly income\": [d[\"infl. adj. total income\"].mean() for d in dfs],\n",
    "})  \n",
    "yearly"
   ]
  },
  {
   "cell_type": "code",
   "execution_count": null,
   "metadata": {},
   "outputs": [],
   "source": [
    "yearly['infl. adj. monthly income'] = yearly['infl. adj. monthly income'].round(2)\n",
    "yearly['infl. adj. monthly income change'] = (yearly['infl. adj. monthly income'] / yearly['infl. adj. monthly income'].shift(1)).round(4)"
   ]
  },
  {
   "cell_type": "code",
   "execution_count": null,
   "metadata": {},
   "outputs": [],
   "source": [
    "yearly"
   ]
  },
  {
   "cell_type": "code",
   "execution_count": null,
   "metadata": {},
   "outputs": [],
   "source": [
    "yearly['infl. adj. monthly income total change'] = (yearly['infl. adj. monthly income'] / yearly['infl. adj. monthly income'].iloc[0]).round(4)"
   ]
  },
  {
   "cell_type": "code",
   "execution_count": null,
   "metadata": {},
   "outputs": [],
   "source": [
    "yearly"
   ]
  },
  {
   "cell_type": "code",
   "execution_count": null,
   "metadata": {},
   "outputs": [],
   "source": [
    "# plot portfolio value\n",
    "import matplotlib.pyplot as plt\n",
    "import matplotlib.dates as mdates\n",
    "import matplotlib.ticker as mtick\n",
    "\n",
    "fig, ax = plt.subplots()\n",
    "ax.plot(df['timestamp'], df['portfolio value'])\n",
    "ax.set_title('Portfolio value')"
   ]
  },
  {
   "cell_type": "code",
   "execution_count": null,
   "metadata": {},
   "outputs": [],
   "source": [
    "fig, ax = plt.subplots()\n",
    "ax.plot(df['timestamp'], df['price'])\n",
    "ax.set_title('Stock price')"
   ]
  },
  {
   "cell_type": "code",
   "execution_count": null,
   "metadata": {},
   "outputs": [],
   "source": [
    "fig, ax = plt.subplots()\n",
    "ax.plot(df['timestamp'], df['cpi'])\n",
    "ax.set_title('Big Mac CPI')"
   ]
  },
  {
   "cell_type": "code",
   "execution_count": null,
   "metadata": {},
   "outputs": [],
   "source": [
    "fig, ax = plt.subplots()\n",
    "ax.plot(yearly['timestamp'], yearly['infl. adj. monthly income'])\n",
    "ax.set_title('Inflation adjusted monthly income')"
   ]
  },
  {
   "cell_type": "code",
   "execution_count": null,
   "metadata": {},
   "outputs": [],
   "source": []
  }
 ],
 "metadata": {
  "kernelspec": {
   "display_name": "base",
   "language": "python",
   "name": "python3"
  },
  "language_info": {
   "codemirror_mode": {
    "name": "ipython",
    "version": 3
   },
   "file_extension": ".py",
   "mimetype": "text/x-python",
   "name": "python",
   "nbconvert_exporter": "python",
   "pygments_lexer": "ipython3",
   "version": "3.12.2"
  }
 },
 "nbformat": 4,
 "nbformat_minor": 2
}
